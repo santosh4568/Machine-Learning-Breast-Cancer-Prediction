{
 "cells": [
  {
   "cell_type": "code",
   "execution_count": 1,
   "id": "0efec3e6-fbc8-4423-9e92-8f62652bb472",
   "metadata": {},
   "outputs": [],
   "source": [
    "import pickle"
   ]
  },
  {
   "cell_type": "code",
   "execution_count": 2,
   "id": "0d7c9826-4409-419a-9d57-ed0dc3ac9596",
   "metadata": {},
   "outputs": [],
   "source": [
    "with open(\"Saved_model\" , \"rb\" ) as file:\n",
    "    model = pickle.load(file)"
   ]
  },
  {
   "cell_type": "code",
   "execution_count": 5,
   "id": "a44e836d-835d-441c-b783-18030b5c7620",
   "metadata": {},
   "outputs": [
    {
     "name": "stdin",
     "output_type": "stream",
     "text": [
      "Enter the Clump Thickness [1,10] :  5\n",
      "Enter the Uniformity of cell size [1,10] :  1\n",
      "Enter the Uniformity of cell shape [1,10] :  1\n",
      "Enter the Marginal Adhesive [1,10] :  1\n",
      "Enter the Single Epithelial cell size [1,10] :  2\n",
      "Enter the Bare Nuclei [1,10] :  1\n",
      "Enter the Bland chromatin [1,10] :  3\n",
      "Enter the Normal Nuclei [1,10] :  1\n",
      "Enter the Mitoses [1,10] :  1\n"
     ]
    },
    {
     "name": "stdout",
     "output_type": "stream",
     "text": [
      "Predicted Breast_Cancer is of class 2\n"
     ]
    },
    {
     "name": "stderr",
     "output_type": "stream",
     "text": [
      "C:\\Users\\sk558\\AppData\\Local\\Programs\\Python\\Python311\\Lib\\site-packages\\sklearn\\base.py:465: UserWarning: X does not have valid feature names, but LogisticRegression was fitted with feature names\n",
      "  warnings.warn(\n"
     ]
    }
   ],
   "source": [
    "clump = int(input(\"Enter the Clump Thickness [1,10] : \"))\n",
    "uni = int(input(\"Enter the Uniformity of cell size [1,10] : \"))\n",
    "uni_sh = int(input(\"Enter the Uniformity of cell shape [1,10] : \"))\n",
    "mar = int(input(\"Enter the Marginal Adhesive [1,10] : \"))\n",
    "epi = int(input(\"Enter the Single Epithelial cell size [1,10] : \"))\n",
    "bare = int(input(\"Enter the Bare Nuclei [1,10] : \"))\n",
    "bland = int(input(\"Enter the Bland chromatin [1,10] : \"))\n",
    "normal = int(input(\"Enter the Normal Nuclei [1,10] : \"))\n",
    "mit = int(input(\"Enter the Mitoses [1,10] : \"))\n",
    "predicted_class = model.predict([[clump,uni,uni_sh,mar,epi,bare,bland,normal,mit]])\n",
    "print(\"Predicted Breast_Cancer is of class {}\".format(*predicted_class))"
   ]
  },
  {
   "cell_type": "code",
   "execution_count": null,
   "id": "560fc447-4b24-4048-bc65-656998ce7468",
   "metadata": {},
   "outputs": [],
   "source": []
  }
 ],
 "metadata": {
  "kernelspec": {
   "display_name": "Python 3 (ipykernel)",
   "language": "python",
   "name": "python3"
  },
  "language_info": {
   "codemirror_mode": {
    "name": "ipython",
    "version": 3
   },
   "file_extension": ".py",
   "mimetype": "text/x-python",
   "name": "python",
   "nbconvert_exporter": "python",
   "pygments_lexer": "ipython3",
   "version": "3.11.5"
  }
 },
 "nbformat": 4,
 "nbformat_minor": 5
}
